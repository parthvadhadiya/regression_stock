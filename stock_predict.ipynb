{
 "cells": [
  {
   "cell_type": "code",
   "execution_count": 1,
   "metadata": {},
   "outputs": [],
   "source": [
    "import pandas as pd\n",
    "df = pd.read_csv(\"SBIN.BO.csv\")\n",
    "if \"Name\" in df:\n",
    "    df.drop('Name',axis=1,inplace=True)\n"
   ]
  },
  {
   "cell_type": "code",
   "execution_count": 9,
   "metadata": {},
   "outputs": [],
   "source": [
    "df = df.dropna()\n",
    "df.head(50)\n",
    "df = df[['Adj Close']]"
   ]
  },
  {
   "cell_type": "code",
   "execution_count": 33,
   "metadata": {},
   "outputs": [],
   "source": [
    "forecast_out = int(30) # predicting 30 days into future\n",
    "df['Prediction'] = df[['Adj Close']].shift(-forecast_out) #  label column with data shifted 30 units up"
   ]
  },
  {
   "cell_type": "code",
   "execution_count": null,
   "metadata": {},
   "outputs": [],
   "source": []
  },
  {
   "cell_type": "code",
   "execution_count": 28,
   "metadata": {},
   "outputs": [],
   "source": [
    "import pandas as pd\n",
    "import numpy as np\n",
    "import datetime\n",
    "\n",
    "from sklearn.linear_model import LinearRegression\n",
    "from sklearn import preprocessing, svm\n",
    "\n",
    "from sklearn.model_selection import train_test_split\n",
    "X = np.array(df.drop(['Prediction'], 1))\n",
    "X = preprocessing.scale(X)"
   ]
  },
  {
   "cell_type": "code",
   "execution_count": null,
   "metadata": {},
   "outputs": [],
   "source": []
  },
  {
   "cell_type": "code",
   "execution_count": 32,
   "metadata": {},
   "outputs": [],
   "source": [
    "X_forecast = X[-forecast_out:] # set X_forecast equal to last 30\n",
    "#print(X[-forecast_out:])\n",
    "X = X[:-forecast_out] # remove last 30 from X"
   ]
  },
  {
   "cell_type": "code",
   "execution_count": 24,
   "metadata": {},
   "outputs": [],
   "source": [
    "y = np.array(df['Prediction'])\n",
    "y = y[:-forecast_out]"
   ]
  },
  {
   "cell_type": "code",
   "execution_count": 25,
   "metadata": {},
   "outputs": [],
   "source": [
    "X_train, X_test, y_train, y_test = train_test_split(X, y, test_size = 0.2)"
   ]
  },
  {
   "cell_type": "code",
   "execution_count": 26,
   "metadata": {},
   "outputs": [
    {
     "name": "stdout",
     "output_type": "stream",
     "text": [
      "confidence:  0.9746557039481416\n"
     ]
    }
   ],
   "source": [
    "\n",
    "\n",
    "# Training\n",
    "clf = LinearRegression()\n",
    "clf.fit(X_train,y_train)\n",
    "# Testing\n",
    "confidence = clf.score(X_test, y_test)\n",
    "print(\"confidence: \", confidence)\n",
    "\n"
   ]
  },
  {
   "cell_type": "code",
   "execution_count": 27,
   "metadata": {},
   "outputs": [
    {
     "name": "stdout",
     "output_type": "stream",
     "text": [
      "[296.65654768 287.86697139 288.01678793 284.37111242 279.12732396\n",
      " 279.52684471 285.0702962  286.66837919 291.66246343 289.56497202\n",
      " 284.42104128 287.91690025 283.97159167 287.0679299  290.41394237\n",
      " 285.5197458  287.61726718 285.71952116 288.36637982 283.67192864\n",
      " 281.57443723 277.12969027 276.78009838 274.78246468 282.57325408\n",
      " 286.61845033 289.96449277 290.51383005 290.01442162 293.90980134]\n"
     ]
    }
   ],
   "source": [
    "forecast_prediction = clf.predict(X_forecast)\n",
    "print(forecast_prediction)"
   ]
  },
  {
   "cell_type": "code",
   "execution_count": null,
   "metadata": {},
   "outputs": [],
   "source": []
  }
 ],
 "metadata": {
  "kernelspec": {
   "display_name": "Python 3",
   "language": "python",
   "name": "python3"
  },
  "language_info": {
   "codemirror_mode": {
    "name": "ipython",
    "version": 3
   },
   "file_extension": ".py",
   "mimetype": "text/x-python",
   "name": "python",
   "nbconvert_exporter": "python",
   "pygments_lexer": "ipython3",
   "version": "3.5.2"
  }
 },
 "nbformat": 4,
 "nbformat_minor": 2
}
